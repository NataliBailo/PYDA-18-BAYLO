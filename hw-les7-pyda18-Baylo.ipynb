{
 "cells": [
  {
   "cell_type": "code",
   "execution_count": 1,
   "metadata": {
    "collapsed": false
   },
   "outputs": [
    {
     "name": "stdout",
     "output_type": "stream",
     "text": [
      "4\n",
      "[3 2 1 0]\n"
     ]
    }
   ],
   "source": [
    "\"\"\"\n",
    "Задание 1\n",
    "Создайте numpy array с элементами от числа N до 0 (например, \n",
    "для N = 10 это будет array([9, 8, 7, 6, 5, 4, 3, 2, 1, 0]))\n",
    "\"\"\"\n",
    "import numpy as np\n",
    "\n",
    "N=int(input())\n",
    "x=np.arange(N-1, -1, -1)\n",
    "print(x)"
   ]
  },
  {
   "cell_type": "code",
   "execution_count": 6,
   "metadata": {
    "collapsed": false
   },
   "outputs": [
    {
     "name": "stdout",
     "output_type": "stream",
     "text": [
      "5\n",
      "[[4 0 0 0 0]\n",
      " [0 3 0 0 0]\n",
      " [0 0 2 0 0]\n",
      " [0 0 0 1 0]\n",
      " [0 0 0 0 0]]\n",
      "Cумма значений на диагонали матрицы = 10\n"
     ]
    }
   ],
   "source": [
    "\"\"\"\n",
    "Задание 2\n",
    "Создайте диагональную матрицу с элементами от N до 0. Посчитайте сумму ее значений на диагонали.\n",
    "\"\"\"\n",
    "import numpy as np\n",
    "N=int(input())\n",
    "mat=np.diag(np.arange(N-1, -1, -1))\n",
    "sum_of_diagonal_elements=np.trace(mat)\n",
    "print(mat)\n",
    "print('Cумма значений на диагонали матрицы =',sum_of_diagonal_elements)"
   ]
  },
  {
   "cell_type": "code",
   "execution_count": 9,
   "metadata": {
    "collapsed": false
   },
   "outputs": [
    {
     "data": {
      "text/plain": [
       "array([ -0.22727273,   7.54545455, -10.18181818])"
      ]
     },
     "execution_count": 9,
     "metadata": {},
     "output_type": "execute_result"
    }
   ],
   "source": [
    "\"\"\"\n",
    "Задание 3:\n",
    "\n",
    "Решите систему уравнений:\n",
    "4x + 2y + z = 4\n",
    "x + 3y = 12\n",
    "5y + 4z = -3\n",
    "\"\"\"\n",
    "from numpy import linalg\n",
    "\n",
    "a=np.array([[4, 2, 1], [2, 3, 1], [0, 5, 4]])\n",
    "b=np.array([4, 12, -3])\n",
    "linalg.solve(a, b)\n"
   ]
  },
  {
   "cell_type": "code",
   "execution_count": 14,
   "metadata": {
    "collapsed": false
   },
   "outputs": [
    {
     "data": {
      "text/plain": [
       "6"
      ]
     },
     "execution_count": 14,
     "metadata": {},
     "output_type": "execute_result"
    }
   ],
   "source": [
    "\"\"\"\n",
    "Задание 4\n",
    "\n",
    "Имеется матрица покупок в интернет-магазине. \n",
    "Столбец А - ID пользователя. Остальные столбцы - количество покупок категорий товаров \n",
    "этим пользователем.\n",
    "\n",
    "users_stats = np.array(\n",
    "    [\n",
    "        [2, 1, 0, 0, 0, 0],\n",
    "        [1, 1, 2, 1, 0, 0],\n",
    "        [2, 0, 1, 0, 0, 0],\n",
    "        [1, 1, 2, 1, 0, 1],\n",
    "        [0, 0, 1, 2, 0, 0],\n",
    "        [0, 0, 0, 0, 0, 5],\n",
    "        [1, 0, 0, 0, 0, 0],\n",
    "        [0, 1, 1, 0, 0, 0],\n",
    "        [0, 0, 0, 1, 1, 3],\n",
    "        [1, 0, 0, 2, 1, 4]\n",
    "    ], \n",
    "    np.int32\n",
    ")\n",
    "\n",
    "На сайт заходит очередной посетитель, о покупках которого известно следующее:\n",
    "next_user_stats = np.array([0, 1, 2, 0, 0, 0])\n",
    "\n",
    "Найдите самого похожего пользователя. Т. е. посчитайте косинусное сходство между этим\n",
    "пользователем и всеми пользователями из массива user_stats\n",
    "\"\"\"\n",
    "import matplotlib.pyplot as plt\n",
    "\n",
    "users_stats = np.array(\n",
    "    [\n",
    "        [2, 1, 0, 0, 0, 0],\n",
    "        [1, 1, 2, 1, 0, 0],\n",
    "        [2, 0, 1, 0, 0, 0],\n",
    "        [1, 1, 2, 1, 0, 1],\n",
    "        [0, 0, 1, 2, 0, 0],\n",
    "        [0, 0, 0, 0, 0, 5],\n",
    "        [1, 0, 0, 0, 0, 0],\n",
    "        [0, 1, 1, 0, 0, 0],\n",
    "        [0, 0, 0, 1, 1, 3],\n",
    "        [1, 0, 0, 2, 1, 4]\n",
    "    ], \n",
    "    np.int32\n",
    ")\n",
    "next_user_stats = np.array([0, 1, 2, 0, 0, 0])\n",
    "shape_of_matrix = users_stats.shape\n",
    "x,y=shape_of_matrix \n"
   ]
  },
  {
   "cell_type": "code",
   "execution_count": null,
   "metadata": {
    "collapsed": true
   },
   "outputs": [],
   "source": []
  }
 ],
 "metadata": {
  "kernelspec": {
   "display_name": "Python 3",
   "language": "python",
   "name": "python3"
  },
  "language_info": {
   "codemirror_mode": {
    "name": "ipython",
    "version": 3
   },
   "file_extension": ".py",
   "mimetype": "text/x-python",
   "name": "python",
   "nbconvert_exporter": "python",
   "pygments_lexer": "ipython3",
   "version": "3.5.1"
  }
 },
 "nbformat": 4,
 "nbformat_minor": 0
}
