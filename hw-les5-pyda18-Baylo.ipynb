{
 "cells": [
  {
   "cell_type": "code",
   "execution_count": 76,
   "metadata": {
    "collapsed": false
   },
   "outputs": [],
   "source": [
    "\"\"\"\n",
    "1.Переведите содержимое файла purchase_log.txt в словарь purchases вида:\n",
    "{‘1840e0b9d4’: ‘Продукты’, …}\n",
    "\"\"\"\n",
    "#f = open('purchase_log.txt', 'r', encoding='utf-8')\n",
    "#purchase_log_content = f.readlines()\n",
    "#size = len(purchase_log_content)\n",
    "\n",
    "import json\n",
    "\n",
    "i = 0\n",
    "purchasess = {}\n",
    "with open ('purchase_log.txt', encoding='utf-8') as f:\n",
    "    for line in f:\n",
    "        line = line.strip()\n",
    "        dict_=json.loads(line)\n",
    "        key = dict_['user_id']\n",
    "        value = dict_['category']\n",
    "        if key!='user_id':\n",
    "            purchasess.setdefault(key,value)"
   ]
  },
  {
   "cell_type": "code",
   "execution_count": null,
   "metadata": {
    "collapsed": false
   },
   "outputs": [],
   "source": [
    "\"\"\"\n",
    "2. Для каждого user_id в файле visit_log.csv определите третий столбец с категорией покупки \n",
    "(если покупка была, сам файл visit_log.csv изменять не надо). Запишите в файл funnel.csv визиты \n",
    "из файла visit_log.csv, в которых были покупки с указанием категории.\n",
    "Учтите условия на данные:\n",
    "содержимое purchase_log.txt помещается в оперативную память компьютера\n",
    "содержимое visit_log.csv - нет; используйте только построчную обработку этого файла\n",
    "\"\"\"\n",
    "\n",
    "with open('visit_log.csv', 'r') as f: \n",
    "    with open('funnel.csv', 'w') as f2write:\n",
    "        for row in f:\n",
    "            lines=row.strip().split(',')\n",
    "            if lines[0] in purchasess.keys():\n",
    "                lines.append(purchasess[lines[0]])\n",
    "                add_line=','.join(lines)\n",
    "            elif lines[0]=='user_id':\n",
    "                lines.append('category')\n",
    "                add_line=','.join(lines)\n",
    "            else:\n",
    "                add_line=','.join(lines)\n",
    "            f2write.write(add_line+'\\n')"
   ]
  },
  {
   "cell_type": "code",
   "execution_count": null,
   "metadata": {
    "collapsed": true
   },
   "outputs": [],
   "source": []
  }
 ],
 "metadata": {
  "kernelspec": {
   "display_name": "Python 3",
   "language": "python",
   "name": "python3"
  },
  "language_info": {
   "codemirror_mode": {
    "name": "ipython",
    "version": 3
   },
   "file_extension": ".py",
   "mimetype": "text/x-python",
   "name": "python",
   "nbconvert_exporter": "python",
   "pygments_lexer": "ipython3",
   "version": "3.5.1"
  }
 },
 "nbformat": 4,
 "nbformat_minor": 0
}
