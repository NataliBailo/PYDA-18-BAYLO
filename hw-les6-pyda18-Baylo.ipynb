{
 "cells": [
  {
   "cell_type": "code",
   "execution_count": 90,
   "metadata": {
    "collapsed": false
   },
   "outputs": [],
   "source": [
    "\"\"\"\n",
    "Задание 1\n",
    "Печатные газеты использовали свой формат дат для каждого выпуска. Для каждой газеты из списка \n",
    "напишите формат указанной даты для перевода в объект datetime:\n",
    "The Moscow Times - Wednesday, October 2, 2002\n",
    "The Guardian - Friday, 11.10.13\n",
    "Daily News - Thursday, 18 August 1977\n",
    "\n",
    "\"\"\"\n",
    "from datetime import datetime\n",
    "\n",
    "#формат даты The Moscow Times \n",
    "first_date_string = 'Wednesday, October 2, 2002' \n",
    "first_date_datetime = datetime.strptime(first_date_string, '%A, %B %d, %Y')\n",
    "#print (first_date_datetime)\n",
    "\n",
    "#формат даты The Guardian\n",
    "second_date_string = 'Friday, 11.10.13'\n",
    "second_date_datetime = datetime.strptime(second_date_string, '%A, %d.%m.%y')\n",
    "#print (second_date_datetime)\n",
    "\n",
    "#формат даты Daily News\n",
    "third_date_string = 'Thursday, 18 August 1977'\n",
    "third_date_datetime = datetime.strptime(third_date_string, '%A, %d %B %Y')\n",
    "#print (third_date_datetime)"
   ]
  },
  {
   "cell_type": "code",
   "execution_count": 93,
   "metadata": {
    "collapsed": false
   },
   "outputs": [
    {
     "name": "stdout",
     "output_type": "stream",
     "text": [
      "True\n",
      "False\n",
      "False\n"
     ]
    }
   ],
   "source": [
    "\"\"\"\n",
    "Задание 2\n",
    "Дан поток дат в формате YYYY-MM-DD, в которых встречаются некорректные значения:\n",
    "stream = [‘2018-04-02’, ‘2018-02-29’, ‘2018-19-02’]\n",
    "\n",
    "Напишите функцию, которая проверяет эти даты на корректность. Т. е. для каждой даты \n",
    "возвращает True (дата корректна) или False (некорректная дата).\n",
    "\"\"\"\n",
    "\n",
    "from datetime import datetime\n",
    "\n",
    "stream = [\n",
    "    '2018-04-02',\n",
    "    '2018-02-29',\n",
    "    '2018-19-02']\n",
    "\n",
    "#функция проверки корректности дат\n",
    "def check_correct_date(date_list):\n",
    "    for date in date_list:\n",
    "        #если дата потока корректна\n",
    "        try:\n",
    "            correct_date = datetime.strptime(date, '%Y-%m-%d')\n",
    "            print(True)\n",
    "        #в случае возникновения ошибки значения параметра даты \n",
    "        except ValueError:\n",
    "            print(False)\n",
    "\n",
    "check_correct_date(stream)"
   ]
  },
  {
   "cell_type": "code",
   "execution_count": null,
   "metadata": {
    "collapsed": false
   },
   "outputs": [],
   "source": [
    "\"\"\"\n",
    "Задание 3\n",
    "Напишите функцию date_range, которая возвращает список дат за период от start_date до end_date. \n",
    "Даты должны вводиться в формате YYYY-MM-DD. В случае неверного формата или при start_date > \n",
    "end_date должен возвращаться пустой список.\n",
    "\"\"\"\n",
    "\n",
    "from datetime import timedelta\n",
    "from datetime import datetime\n",
    "\n",
    "start_date=input('Введите начальную дату в формате YYYY-MM-DD: ')\n",
    "end_date=input('Введите дату окончания в формате YYYY-MM-DD: ')\n",
    "\n",
    "start_end_date=[]\n",
    "start_end_date.append(start_date)\n",
    "start_end_date.append(end_date)\n",
    "\n",
    "def date_range(date_input, start, end):    \n",
    "    for date in date_input:\n",
    "        try:\n",
    "            correct_date = datetime.strptime(date, '%Y-%m-%d')\n",
    "            days=[]\n",
    "            date_value_in_range = start\n",
    "            while date_value_in_range <= end:\n",
    "                date_value_in_range = date_value_in_range + timedelta(days=1)\n",
    "                datetime_value = datetime.strftime(date_value_in_range,'%Y-%m-%d')\n",
    "                days.append(datetime_value)\n",
    "            return(days)\n",
    "        #в случае возникновения ошибки значения параметра даты начала или даты окончания периода\n",
    "        except ValueError:\n",
    "            print('пустой список')\n",
    "\n",
    "date_range(start_end_date, start_date, end_date)\n"
   ]
  },
  {
   "cell_type": "code",
   "execution_count": null,
   "metadata": {
    "collapsed": true
   },
   "outputs": [],
   "source": []
  },
  {
   "cell_type": "code",
   "execution_count": null,
   "metadata": {
    "collapsed": true
   },
   "outputs": [],
   "source": []
  }
 ],
 "metadata": {
  "kernelspec": {
   "display_name": "Python 3",
   "language": "python",
   "name": "python3"
  },
  "language_info": {
   "codemirror_mode": {
    "name": "ipython",
    "version": 3
   },
   "file_extension": ".py",
   "mimetype": "text/x-python",
   "name": "python",
   "nbconvert_exporter": "python",
   "pygments_lexer": "ipython3",
   "version": "3.5.1"
  }
 },
 "nbformat": 4,
 "nbformat_minor": 0
}
